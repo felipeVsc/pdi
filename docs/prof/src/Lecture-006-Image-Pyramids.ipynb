{
 "cells": [
  {
   "attachments": {},
   "cell_type": "markdown",
   "id": "44aed457",
   "metadata": {
    "slideshow": {
     "slide_type": "slide"
    }
   },
   "source": [
    "# Digital Image Processing"
   ]
  },
  {
   "attachments": {},
   "cell_type": "markdown",
   "id": "4da29559",
   "metadata": {
    "slideshow": {
     "slide_type": "slide"
    }
   },
   "source": [
    "## Image Pyramids"
   ]
  },
  {
   "cell_type": "code",
   "execution_count": 1,
   "id": "d7ae4212",
   "metadata": {
    "slideshow": {
     "slide_type": "slide"
    }
   },
   "outputs": [],
   "source": [
    "import os\n",
    "import cv2\n",
    "import numpy as np\n",
    "import matplotlib.pyplot as plt\n",
    "path = '../img/'\n",
    "plt.rcParams['image.cmap'] = 'gray'\n",
    "plt.rcParams[\"figure.dpi\"] = 100"
   ]
  },
  {
   "cell_type": "code",
   "execution_count": 2,
   "id": "55aef016",
   "metadata": {
    "slideshow": {
     "slide_type": "slide"
    }
   },
   "outputs": [],
   "source": [
    "path = '../img/'\n",
    "plt.rcParams['image.cmap'] = 'gray'\n",
    "plt.rcParams[\"figure.dpi\"] = 100"
   ]
  },
  {
   "cell_type": "code",
   "execution_count": 3,
   "id": "107cb261",
   "metadata": {
    "slideshow": {
     "slide_type": "slide"
    }
   },
   "outputs": [
    {
     "name": "stdout",
     "output_type": "stream",
     "text": [
      "Using cv2 version 4.8.0\n"
     ]
    }
   ],
   "source": [
    "print(f'Using {cv2.__name__} version {cv2.__version__}')"
   ]
  },
  {
   "attachments": {},
   "cell_type": "markdown",
   "id": "435a7554",
   "metadata": {
    "slideshow": {
     "slide_type": "slide"
    }
   },
   "source": [
    "- Re-Sizing, scaling and interpolation\n",
    "- `cv2.INTER_AREA` - good for shrinking or down sampling\n",
    "- `cv2.INTER_NEAREST` - fastest\n",
    "- `cv2.INTER_LINEAR` - Good for zooming or up scaling(default)\n",
    "- `cv2.INTER_CUBIC` - Better\n",
    "- `cv2.INTER_LANCZOS4` - Best\n",
    "- `cv2.resize(image, dsize(output image size), x scale, y scale, interpolation)`"
   ]
  },
  {
   "cell_type": "code",
   "execution_count": 4,
   "id": "d0a52821",
   "metadata": {
    "slideshow": {
     "slide_type": "slide"
    }
   },
   "outputs": [],
   "source": [
    "image = cv2.imread(os.path.join(path, 'lena.png'))"
   ]
  },
  {
   "attachments": {},
   "cell_type": "markdown",
   "id": "d06085e1",
   "metadata": {
    "slideshow": {
     "slide_type": "slide"
    }
   },
   "source": [
    "## Let's make our image 3/4 of it's original size"
   ]
  },
  {
   "cell_type": "code",
   "execution_count": 5,
   "id": "8c98c3f8",
   "metadata": {
    "slideshow": {
     "slide_type": "subslide"
    }
   },
   "outputs": [],
   "source": [
    "image_scaled = cv2.resize(image, None, fx = 0.75, fy = 0.75)  ## fx and fy are the factors\n",
    "cv2.imshow('Scaling - Linear interpolation', image_scaled)\n",
    "cv2.waitKey()\n",
    "cv2.destroyAllWindows()"
   ]
  },
  {
   "attachments": {},
   "cell_type": "markdown",
   "id": "b293d917",
   "metadata": {
    "slideshow": {
     "slide_type": "slide"
    }
   },
   "source": [
    "## Make the image double it's size"
   ]
  },
  {
   "cell_type": "code",
   "execution_count": 6,
   "id": "5165b87d",
   "metadata": {
    "slideshow": {
     "slide_type": "subslide"
    }
   },
   "outputs": [],
   "source": [
    "img_scaled = cv2.resize(image, None, fx = 2, fy = 2, interpolation = cv2.INTER_CUBIC)\n",
    "cv2.imshow('Scaling - Cubic interpolation', img_scaled)\n",
    "cv2.waitKey()\n",
    "cv2.destroyAllWindows()"
   ]
  },
  {
   "attachments": {},
   "cell_type": "markdown",
   "id": "c35bac22",
   "metadata": {
    "slideshow": {
     "slide_type": "slide"
    }
   },
   "source": [
    "## skew the re-sizing by setting exact dimensions"
   ]
  },
  {
   "cell_type": "code",
   "execution_count": 7,
   "id": "e86ff04c",
   "metadata": {
    "slideshow": {
     "slide_type": "subslide"
    }
   },
   "outputs": [],
   "source": [
    "img_scaled = cv2.resize(image, (900, 400), interpolation = cv2.INTER_AREA)\n",
    "cv2.imshow('Scaling - Skewed Size', img_scaled)\n",
    "cv2.waitKey()\n",
    "cv2.destroyAllWindows()"
   ]
  }
 ],
 "metadata": {
  "celltoolbar": "Slideshow",
  "kernelspec": {
   "display_name": "Python 3",
   "language": "python",
   "name": "python3"
  },
  "language_info": {
   "codemirror_mode": {
    "name": "ipython",
    "version": 3
   },
   "file_extension": ".py",
   "mimetype": "text/x-python",
   "name": "python",
   "nbconvert_exporter": "python",
   "pygments_lexer": "ipython3",
   "version": "3.10.6"
  }
 },
 "nbformat": 4,
 "nbformat_minor": 5
}
