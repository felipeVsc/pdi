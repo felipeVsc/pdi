{
 "cells": [
  {
   "cell_type": "code",
   "execution_count": 9,
   "id": "efd87eb0",
   "metadata": {},
   "outputs": [],
   "source": [
    "import os\n",
    "import cv2\n",
    "import numpy as np\n",
    "# import matplotlib.pyplot as plt\n",
    "from utils import *\n",
    "\n",
    "path = \"../img/\""
   ]
  },
  {
   "cell_type": "markdown",
   "id": "9fd03994",
   "metadata": {},
   "source": [
    "Image negative"
   ]
  },
  {
   "cell_type": "code",
   "execution_count": null,
   "id": "5f5b90f7",
   "metadata": {},
   "outputs": [],
   "source": [
    "img = cv2.imread(os.path.join(path,'lena.png'), cv2.IMREAD_GRAYSCALE)\n",
    "\n",
    "cv2.namedWindow(\"img\", cv2.WINDOW_NORMAL | cv2.WINDOW_KEEPRATIO)\n",
    "cv2.namedWindow(\"img2\", cv2.WINDOW_NORMAL | cv2.WINDOW_KEEPRATIO)\n",
    "\n",
    "while cv2.waitKey(1) != ord('q'):\n",
    "    cv2.imshow(\"img\", img)\n",
    "    cv2.imshow(\"img2\", 255 - img)\n",
    "cv2.destroyAllWindows()\n",
    "\n",
    "im_info(img)"
   ]
  },
  {
   "cell_type": "markdown",
   "id": "2e4e71f3",
   "metadata": {},
   "source": [
    "Log Transform"
   ]
  },
  {
   "cell_type": "code",
   "execution_count": null,
   "id": "05665faa",
   "metadata": {},
   "outputs": [],
   "source": [
    "img = cv2.imread(os.path.join(path,'spectrum.tif'), cv2.IMREAD_GRAYSCALE)\n",
    "img2 = np.ones(img.shape, np.float64)\n",
    "c = 1\n",
    "\n",
    "cv2.namedWindow(\"img\", cv2.WINDOW_NORMAL | cv2.WINDOW_KEEPRATIO)\n",
    "cv2.namedWindow(\"img2\", cv2.WINDOW_NORMAL | cv2.WINDOW_KEEPRATIO)\n",
    "cv2.namedWindow(\"img3\", cv2.WINDOW_NORMAL | cv2.WINDOW_KEEPRATIO)\n",
    "\n",
    "tic = cv2.getTickCount()\n",
    "for x in range(img.shape[0]):\n",
    "    for y in range(img.shape[1]):\n",
    "        intensity = img[x][y]\n",
    "        intensity_new = c * np.log(1 + intensity)\n",
    "        img2[x][y] = intensity_new\n",
    "cv2.normalize(img2, img2, 1, 0, cv2.NORM_MINMAX)\n",
    "toc = cv2.getTickCount()\n",
    "et = (toc - tic)/cv2.getTickFrequency()\n",
    "print(f\"Elapsed time using for loop: {1000*et:.2f}ms\")\n",
    "\n",
    "tic = cv2.getTickCount()\n",
    "img3 = c * np.log(1 + img.astype('float'))\n",
    "cv2.normalize(img3, img3, 1, 0,  cv2.NORM_MINMAX)\n",
    "toc = cv2.getTickCount()\n",
    "et = (toc - tic)/cv2.getTickFrequency()\n",
    "print(f\"Elapsed time using for Numpy Array: {1000*et:.2f}ms\")\n",
    "\n",
    "while cv2.waitKey(1) != ord('q'):\n",
    "    cv2.imshow(\"img\", img)\n",
    "    cv2.imshow(\"img2\", img2)\n",
    "    cv2.imshow(\"img3\", img3)\n",
    "cv2.destroyAllWindows()"
   ]
  },
  {
   "cell_type": "markdown",
   "id": "6485dfe1",
   "metadata": {},
   "source": [
    "## Spatial filtering"
   ]
  },
  {
   "cell_type": "markdown",
   "id": "73386888",
   "metadata": {},
   "source": [
    "### Average blurring"
   ]
  },
  {
   "cell_type": "code",
   "execution_count": null,
   "id": "1a69588d",
   "metadata": {},
   "outputs": [],
   "source": [
    "img = cv2.imread(os.path.join(path, 'lena.png'), cv2.IMREAD_GRAYSCALE)\n",
    "\n",
    "cv2.namedWindow(\"Original\", cv2.WINDOW_KEEPRATIO)\n",
    "cv2.namedWindow(\"New\",      cv2.WINDOW_KEEPRATIO)\n",
    "\n",
    "ksizex = 0\n",
    "ksizey = 0\n",
    "\n",
    "cv2.createTrackbar(\"ksizex\", \"New\", ksizex, 63, do_nothing)\n",
    "cv2.createTrackbar(\"ksizey\", \"New\", ksizey, 63, do_nothing)\n",
    "\n",
    "img2 = np.zeros(img.shape, dtype=np.float64)\n",
    "\n",
    "while 0xFF & cv2.waitKey(1) != ord('q'):\n",
    "\n",
    "    ksizey = cv2.getTrackbarPos(\"ksizey\", \"New\")\n",
    "    ksizex = cv2.getTrackbarPos(\"ksizex\", \"New\")\n",
    "\n",
    "    if ksizex < 1:\n",
    "        ksizex = 1\n",
    "    if ksizey < 1:\n",
    "        ksizey = 1\n",
    "\n",
    "    img2 = cv2.blur(img, (ksizex, ksizey), img2, (-1, -1), cv2.BORDER_DEFAULT)\n",
    "\n",
    "    #cv2.imshow(\"Original\", img)\n",
    "    cv2.imshow(\"New\", img2)\n",
    "\n",
    "cv2.destroyAllWindows()"
   ]
  },
  {
   "cell_type": "markdown",
   "id": "38d0d568",
   "metadata": {},
   "source": [
    "Adding salt & pepper noise to an image and cleaning it using the median"
   ]
  },
  {
   "cell_type": "code",
   "execution_count": 2,
   "id": "c409d120",
   "metadata": {},
   "outputs": [],
   "source": [
    "img = cv2.imread(os.path.join(path, \"lena.png\"), cv2.IMREAD_GRAYSCALE)\n",
    "\n",
    "noise = np.zeros(img.shape, np.uint8)\n",
    "img2 = np.zeros(img.shape, np.uint8)\n",
    "img3 = np.zeros(img.shape, np.uint8)\n",
    "salt = np.zeros(img.shape, np.uint8)\n",
    "pepper = np.zeros(img.shape, np.uint8)\n",
    "\n",
    "ksize = 0\n",
    "amount = 5\n",
    "cv2.namedWindow(\"img3\", cv2.WINDOW_KEEPRATIO);\n",
    "cv2.namedWindow(\"img2\", cv2.WINDOW_KEEPRATIO);\n",
    "cv2.createTrackbar(\"ksize\", \"img3\", ksize, 15, do_nothing)\n",
    "cv2.createTrackbar(\"amount\", \"img2\", amount, 120, do_nothing)\n",
    "\n",
    "cv2.randu(noise, 0, 255)\n",
    "\n",
    "while 0xFF & cv2.waitKey(1) != ord('q'):\n",
    "    amount = cv2.getTrackbarPos(\"amount\", \"img2\")\n",
    "    ksize = cv2.getTrackbarPos(\"ksize\", \"img3\")\n",
    "\n",
    "    img2 = np.copy(img)\n",
    "\n",
    "    salt = noise > 255 - amount\n",
    "    pepper = noise < amount\n",
    "\n",
    "    img2[salt == True] = 255\n",
    "    img2[pepper == True] = 0\n",
    "\n",
    "    img3 = cv2.medianBlur(img2, (ksize + 1) * 2 - 1)\n",
    "\n",
    "    #cv2.imshow(\"img\", img)\n",
    "    cv2.imshow(\"img2\", img2)\n",
    "    cv2.imshow(\"img3\", img3)\n",
    "\n",
    "cv2.destroyAllWindows()"
   ]
  },
  {
   "cell_type": "markdown",
   "id": "5c3cfa02",
   "metadata": {},
   "source": [
    "First derivative operators - Sobel masks - Part I"
   ]
  },
  {
   "cell_type": "code",
   "execution_count": 12,
   "id": "e0da4431",
   "metadata": {},
   "outputs": [],
   "source": [
    "img = cv2.imread(os.path.join(path, 'lena.png'), cv2.IMREAD_GRAYSCALE)\n",
    "img2 = img.astype('float')\n",
    "\n",
    "cv2.namedWindow(\"Original\", cv2.WINDOW_KEEPRATIO)\n",
    "cv2.namedWindow(\"New\", cv2.WINDOW_KEEPRATIO)\n",
    "cv2.namedWindow(\"Gx\", cv2.WINDOW_KEEPRATIO)\n",
    "cv2.namedWindow(\"Gy\", cv2.WINDOW_KEEPRATIO)\n",
    "\n",
    "kx = [[-1,  0,  1],\n",
    "      [-2,  0,  2],\n",
    "      [-1,  0,  1]]\n",
    "kx = np.array(kx)\n",
    "\n",
    "ky = [[-1, -2, -1],\n",
    "      [ 0,  0,  0],\n",
    "      [ 1,  2,  1]]\n",
    "ky = np.array(ky)\n",
    "\n",
    "gx = cv2.filter2D(img2, -1, kx, cv2.BORDER_DEFAULT)\n",
    "gy = cv2.filter2D(img2, -1, ky, cv2.BORDER_DEFAULT)\n",
    "g  = np.abs(gx) + np.abs(gy)\n",
    "\n",
    "gx = normalize_img(gx)\n",
    "gy = normalize_img(gy)\n",
    "g  = normalize_img(g)\n",
    "\n",
    "cv2.namedWindow(\"Original\", cv2.WINDOW_NORMAL | cv2.WINDOW_KEEPRATIO)\n",
    "cv2.namedWindow(\"New\", cv2.WINDOW_NORMAL | cv2.WINDOW_KEEPRATIO)\n",
    "cv2.namedWindow(\"Gx\", cv2.WINDOW_NORMAL | cv2.WINDOW_KEEPRATIO)\n",
    "cv2.namedWindow(\"Gy\", cv2.WINDOW_NORMAL | cv2.WINDOW_KEEPRATIO)\n",
    "\n",
    "while 0xFF & cv2.waitKey(1) != ord('q'):\n",
    "    cv2.imshow(\"Original\", img)\n",
    "    cv2.imshow(\"New\", normalize_img(g))\n",
    "    cv2.imshow(\"Gx\", normalize_img(gx))\n",
    "    cv2.imshow(\"Gy\", normalize_img(gy))\n",
    "\n",
    "cv2.destroyAllWindows()"
   ]
  }
 ],
 "metadata": {
  "kernelspec": {
   "display_name": "Python 3.8.10 64-bit ('dl': conda)",
   "language": "python",
   "name": "python3810jvsc74a57bd0f79b107c9bff097d875b935baa5e5b7c85c0956af0c0b34fbac98d537c95b8f4"
  },
  "language_info": {
   "codemirror_mode": {
    "name": "ipython",
    "version": 3
   },
   "file_extension": ".py",
   "mimetype": "text/x-python",
   "name": "python",
   "nbconvert_exporter": "python",
   "pygments_lexer": "ipython3",
   "version": "3.8.10"
  }
 },
 "nbformat": 4,
 "nbformat_minor": 5
}
